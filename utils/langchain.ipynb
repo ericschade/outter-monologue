{
 "cells": [
  {
   "cell_type": "code",
   "execution_count": 30,
   "metadata": {},
   "outputs": [
    {
     "data": {
      "text/plain": [
       "True"
      ]
     },
     "execution_count": 30,
     "metadata": {},
     "output_type": "execute_result"
    }
   ],
   "source": [
    "from langchain_core.tools import tool\n",
    "from typing import List\n",
    "from langchain_openai.chat_models import ChatOpenAI\n",
    "from pydantic import BaseModel\n",
    "import dotenv\n",
    "import os\n",
    "\n",
    "dotenv.load_dotenv()"
   ]
  },
  {
   "cell_type": "code",
   "execution_count": 16,
   "metadata": {},
   "outputs": [],
   "source": [
    "thought_raw_text = \"One of the dogs I had growing up was named Ellie. She was a basenji and she didnt like people very much\""
   ]
  },
  {
   "cell_type": "code",
   "execution_count": 144,
   "metadata": {},
   "outputs": [],
   "source": [
    "model = ChatOpenAI(model=\"gpt-3.5-turbo-1106\")\n",
    "model.temperature = 0.0\n"
   ]
  },
  {
   "cell_type": "code",
   "execution_count": 160,
   "metadata": {},
   "outputs": [],
   "source": [
    "from typing import Optional\n",
    "\n",
    "class Character(BaseModel):\n",
    "    \"\"\"\n",
    "    A non-narrator character in a story.\n",
    "\n",
    "    Attributes:\n",
    "    - name: The name of the character.\n",
    "    - relationship: A description of the character in relation to the narrator of a story, written in a third person perspective without explicitly mentioning the narratator. For example: \"Best Friend\", or \"deceased grandmother\"\n",
    "    - description: A short, accurate description of the character from the perspective of the narrator of the story, written in a third person perspective.\n",
    "\n",
    "    \"\"\"\n",
    "    name: str\n",
    "    relationship: str\n",
    "    description: str\n",
    "\n",
    "# @tool\n",
    "# def thought_to_characters(thought: str) -> List[]:\n",
    "#     \"\"\"\n",
    "#     extract character.\n",
    "#     \"\"\"\n",
    "#     return [thought]"
   ]
  },
  {
   "cell_type": "code",
   "execution_count": 161,
   "metadata": {},
   "outputs": [],
   "source": [
    "model_with_tools = model.bind_tools([Character])"
   ]
  },
  {
   "cell_type": "code",
   "execution_count": 88,
   "metadata": {},
   "outputs": [
    {
     "data": {
      "text/plain": [
       "[{'type': 'function',\n",
       "  'function': {'name': 'Character',\n",
       "   'description': 'A character in a story. Attributes:\\n- name: The name of the character.\\n- relationship: A description of the character in relation to the narrator of a story.\\n- description: A description of the chracter from the perspective of the narrator of the story.',\n",
       "   'parameters': {'type': 'object',\n",
       "    'properties': {'name': {'type': 'string'},\n",
       "     'relationship': {'type': 'string'},\n",
       "     'description': {'type': 'string'}},\n",
       "    'required': ['name', 'relationship', 'description']}}}]"
      ]
     },
     "execution_count": 88,
     "metadata": {},
     "output_type": "execute_result"
    }
   ],
   "source": [
    "model_with_tools.kwargs[\"tools\"]"
   ]
  },
  {
   "cell_type": "code",
   "execution_count": 163,
   "metadata": {},
   "outputs": [
    {
     "data": {
      "text/plain": [
       "[{'args': {'name': 'Emily',\n",
       "   'relationship': 'Housemate',\n",
       "   'description': 'Emily was a dedicated and hardworking grad student, always focused on her studies and research.'},\n",
       "  'type': 'Character'},\n",
       " {'args': {'name': 'Isobelle',\n",
       "   'relationship': 'Housemate',\n",
       "   'description': 'Isobelle was a cheerful and optimistic grad student, bringing positivity and laughter to the house.'},\n",
       "  'type': 'Character'},\n",
       " {'args': {'name': 'Tessa',\n",
       "   'relationship': 'Housemate',\n",
       "   'description': 'Tessa was a kind and empathetic grad student, always ready to lend a listening ear and offer support to her housemates.'},\n",
       "  'type': 'Character'},\n",
       " {'args': {'name': 'Jo',\n",
       "   'relationship': 'Housemate',\n",
       "   'description': 'Jo was a creative and adventurous grad student, often coming up with fun and innovative ideas to keep the housemates entertained.'},\n",
       "  'type': 'Character'}]"
      ]
     },
     "execution_count": 163,
     "metadata": {},
     "output_type": "execute_result"
    }
   ],
   "source": [
    "from langchain.output_parsers import JsonOutputToolsParser\n",
    "from langchain.prompts import PromptTemplate\n",
    "\n",
    "prompt = PromptTemplate.from_template(\n",
    "    template=\"\"\"\n",
    "    You are provided with a story or thought from the perspective of a narrator.\n",
    "    Describe the non-narrator characters in the story or thought.\n",
    "\n",
    "    Use only information provided in the story or thought to describe the characters. Do not make any assumptions about the characters' personalities or add any additional information about the characters not explicitly mentioned in the thought.\n",
    "    Write any descriptions from a third-person perspective.\n",
    "    \n",
    "    Story:\n",
    "    {thought}\n",
    "    \"\"\"\n",
    ")\n",
    "thought = \"I lived in a house during the COVID-19 pandemic with 4 housemates. Emily, Isobelle, Tessa, and Jo were all grad students at Cal Poly SLO and they made a great community in an otherwise isolated time.\"\n",
    "\n",
    "\n",
    "chain = prompt | model_with_tools | JsonOutputToolsParser()\n",
    "\n",
    "chain.invoke({\"thought\":thought})"
   ]
  },
  {
   "cell_type": "code",
   "execution_count": 61,
   "metadata": {},
   "outputs": [
    {
     "data": {
      "text/plain": [
       "[{'type': 'function',\n",
       "  'function': {'name': 'Character',\n",
       "   'description': 'A character in a story.',\n",
       "   'parameters': {'type': 'object',\n",
       "    'properties': {'description': {'type': 'string'}},\n",
       "    'required': ['name', 'description']}}}]"
      ]
     },
     "execution_count": 61,
     "metadata": {},
     "output_type": "execute_result"
    }
   ],
   "source": [
    "model_with_tools.kwargs[\"tools\"]"
   ]
  },
  {
   "cell_type": "code",
   "execution_count": 141,
   "metadata": {},
   "outputs": [
    {
     "name": "stdout",
     "output_type": "stream",
     "text": [
      "Doing something else in the main function\n",
      "Coroutine 2 finished\n"
     ]
    }
   ],
   "source": [
    "import asyncio\n",
    "import time\n",
    "\n",
    "async def my_coroutine(n):\n",
    "    await asyncio.sleep(n)\n",
    "    print(f'Coroutine {n} finished')\n",
    "\n",
    "async def main():\n",
    "    # Schedule my_coroutine to run and immediately continue with the next line\n",
    "    task = asyncio.create_task(my_coroutine(2))\n",
    "\n",
    "    print('Doing something else in the main function')\n",
    "\n",
    "    # Wait for my_coroutine to finish\n",
    "    await task\n",
    "    \n",
    "await main()"
   ]
  }
 ],
 "metadata": {
  "kernelspec": {
   "display_name": "venv-outter-monologue",
   "language": "python",
   "name": "python3"
  },
  "language_info": {
   "codemirror_mode": {
    "name": "ipython",
    "version": 3
   },
   "file_extension": ".py",
   "mimetype": "text/x-python",
   "name": "python",
   "nbconvert_exporter": "python",
   "pygments_lexer": "ipython3",
   "version": "3.10.9"
  }
 },
 "nbformat": 4,
 "nbformat_minor": 2
}
